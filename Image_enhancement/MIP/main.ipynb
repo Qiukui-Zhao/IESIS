{
 "cells": [
  {
   "cell_type": "code",
   "execution_count": null,
   "id": "3e724159-6baf-4ac4-b396-d282ace6fc79",
   "metadata": {},
   "outputs": [],
   "source": [
    "import os\n",
    "import numpy as np\n",
    "import cv2\n",
    "import natsort\n",
    "\n",
    "from BL import getAtomsphericLight\n",
    "from EstimateDepth import DepthMap\n",
    "from getRefinedTramsmission import Refinedtransmission\n",
    "from TM import getTransmission\n",
    "from sceneRadiance import sceneRadianceRGB\n",
    "\n",
    "np.seterr(over='ignore')\n",
    "if __name__ == '__main__':\n",
    "    pass\n",
    "\n",
    "# folder = \" \"\n",
    "np.seterr(over='ignore')\n",
    "\n",
    "if __name__ == '__main__':\n",
    "    folder = \"/home/featurize/data\"\n",
    "    path = folder + \"/2\"\n",
    "    files = os.listdir(path)\n",
    "    files = natsort.natsorted(files)\n",
    "\n",
    "    output_dir = os.path.join(\"OutputImages\")\n",
    "    if not os.path.exists(output_dir):\n",
    "        os.makedirs(output_dir)\n",
    "\n",
    "    for file in files:\n",
    "        filepath = os.path.join(path, file)\n",
    "        prefix = os.path.splitext(file)[0]\n",
    "        if os.path.isfile(filepath):\n",
    "            print('********    Processing file   ********', file)\n",
    "            img = cv2.imread(filepath)\n",
    "\n",
    "            blockSize = 9\n",
    "\n",
    "            largestDiff = DepthMap(img, blockSize)\n",
    "            transmission = getTransmission(largestDiff)\n",
    "            transmission = Refinedtransmission(transmission, img)\n",
    "            AtomsphericLight = getAtomsphericLight(transmission, img)\n",
    "            sceneRadiance = sceneRadianceRGB(img, transmission, AtomsphericLight)\n",
    "\n",
    "            cv2.imwrite(os.path.join(output_dir, f'{prefix}_MIP_TM.jpg'), np.uint8(transmission * 255))\n",
    "            cv2.imwrite(os.path.join(output_dir, f'{prefix}_MIP.jpg'), sceneRadiance)"
   ]
  }
 ],
 "metadata": {
  "kernelspec": {
   "display_name": "Python 3 (ipykernel)",
   "language": "python",
   "name": "python3"
  },
  "language_info": {
   "codemirror_mode": {
    "name": "ipython",
    "version": 3
   },
   "file_extension": ".py",
   "mimetype": "text/x-python",
   "name": "python",
   "nbconvert_exporter": "python",
   "pygments_lexer": "ipython3",
   "version": "3.7.10"
  }
 },
 "nbformat": 4,
 "nbformat_minor": 5
}
