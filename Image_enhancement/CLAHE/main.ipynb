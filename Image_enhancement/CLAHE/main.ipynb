{
 "cells": [
  {
   "cell_type": "code",
   "execution_count": null,
   "id": "37d8513e-cfd0-4605-8d9f-ab84b8af8c41",
   "metadata": {},
   "outputs": [],
   "source": [
    "import os\n",
    "import numpy as np\n",
    "import cv2\n",
    "import natsort\n",
    "import xlwt\n",
    "from skimage import exposure\n",
    "\n",
    "from sceneRadianceCLAHE import RecoverCLAHE\n",
    "from sceneRadianceHE import RecoverHE\n",
    "\n",
    "np.seterr(over='ignore')\n",
    "\n",
    "if __name__ == '__main__':\n",
    "    # Define folder paths\n",
    "    folder = \" \"\n",
    "    input_path = os.path.join(folder, \"InputImages\")\n",
    "    output_path = os.path.join(\"OutputImages\")\n",
    "\n",
    "    # Ensure output directory exists\n",
    "    if not os.path.exists(output_path):\n",
    "        os.makedirs(output_path)\n",
    "\n",
    "    # Get list of files and sort them\n",
    "    files = os.listdir(input_path)\n",
    "    files = natsort.natsorted(files)\n",
    "\n",
    "    for file in files:\n",
    "        filepath = os.path.join(input_path, file)\n",
    "        prefix = os.path.splitext(file)[0]\n",
    "\n",
    "        if os.path.isfile(filepath):\n",
    "            print('******** Processing file ********', file)\n",
    "            img = cv2.imread(filepath)\n",
    "\n",
    "            if img is None:\n",
    "                print(f\"Failed to load image {file}\")\n",
    "                continue\n",
    "\n",
    "            # Apply CLAHE to the image\n",
    "            sceneRadiance = RecoverCLAHE(img)\n",
    "\n",
    "            # Save the processed image\n",
    "            output_filepath = os.path.join(output_path, f'{prefix}_CLAHE.jpg')\n",
    "            cv2.imwrite(output_filepath, sceneRadiance)\n",
    "            print(f'Saved enhanced image: {output_filepath}')\n"
   ]
  }
 ],
 "metadata": {
  "kernelspec": {
   "display_name": "Python 3 (ipykernel)",
   "language": "python",
   "name": "python3"
  },
  "language_info": {
   "codemirror_mode": {
    "name": "ipython",
    "version": 3
   },
   "file_extension": ".py",
   "mimetype": "text/x-python",
   "name": "python",
   "nbconvert_exporter": "python",
   "pygments_lexer": "ipython3",
   "version": "3.10.12"
  }
 },
 "nbformat": 4,
 "nbformat_minor": 5
}
