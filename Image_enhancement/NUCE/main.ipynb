{
 "cells": [
  {
   "cell_type": "code",
   "execution_count": null,
   "id": "c491d831-4818-4224-ae92-c8d4d90c14ef",
   "metadata": {},
   "outputs": [],
   "source": [
    "# $ git clone https://github.com/prashamsatalla/Underwater-image-color-enhancement-with-PSO-python-implementation.git\n",
    "# $ cd Underwater-image-color-enhancement-with-PSO-python-implementation"
   ]
  },
  {
   "cell_type": "code",
   "execution_count": null,
   "id": "fa0d46ff-b515-4784-a3b4-0bae1e2ddd53",
   "metadata": {},
   "outputs": [],
   "source": [
    "# $ pip install -r requirements.txt"
   ]
  },
  {
   "cell_type": "code",
   "execution_count": null,
   "id": "9eae0d7a-508a-4157-8051-2ab97cd62fd3",
   "metadata": {},
   "outputs": [],
   "source": [
    "!pip install numpy==1.21.5 \n",
    "!pip install matplotlib==3.1.1\n",
    "!pip install opencv-python==3.4.8.29  \n"
   ]
  },
  {
   "cell_type": "code",
   "execution_count": null,
   "id": "d79bdd5a-afc4-4dfd-b62e-ecdbcfca627e",
   "metadata": {},
   "outputs": [],
   "source": [
    "import os\n",
    "import numpy as np\n",
    "import cv2 as cv\n",
    "import matplotlib.pyplot as plt\n",
    "from utility import *\n",
    "\n",
    "\n",
    "dir_path = \"./images/\"\n",
    "\n",
    "original_images =[]\n",
    "NUCE_images =[]\n",
    "\n",
    "img_w = 350 #image width\n",
    "img_h = 350 #image height\n",
    "\n",
    "for im in os.listdir(dir_path):\n",
    "\n",
    "\timg = cv.imread(dir_path+im,1)\n",
    "\t# img = cv.resize(img,(img_w,img_h))\n",
    "\toriginal_images.append(img)\n",
    "\n",
    "\tnuce_img = NUCE(img)  \n",
    "\tNUCE_images.append(nuce_img)\n",
    "\n",
    "\tcv.imwrite(\"./results/\"+im.split('/')[-1], nuce_img)\n",
    "\n",
    "\n",
    "fig, ax = plt.subplots(4,2,figsize=(6, 9), constrained_layout = False)\n",
    "ax[0][0].set_title(\"Original Image\")\n",
    "ax[0][1].set_title(\"NUCE Image\")\n",
    "\n",
    "for i in range(4):\n",
    "\n",
    "\tax[i][0].imshow(cv.cvtColor(original_images[i], cv.COLOR_BGR2RGB),cmap='gray')\n",
    "\tax[i][0].axis('off')\n",
    "\n",
    "\tax[i][1].imshow(cv.cvtColor(NUCE_images[i], cv.COLOR_BGR2RGB), cmap='gray')\n",
    "\tax[i][1].axis('off')\n",
    "\n",
    "fig.tight_layout()\n",
    "plt.savefig(\"./results/output.jpg\")\n",
    "# plt.show()"
   ]
  }
 ],
 "metadata": {
  "kernelspec": {
   "display_name": "Python 3 (ipykernel)",
   "language": "python",
   "name": "python3"
  },
  "language_info": {
   "codemirror_mode": {
    "name": "ipython",
    "version": 3
   },
   "file_extension": ".py",
   "mimetype": "text/x-python",
   "name": "python",
   "nbconvert_exporter": "python",
   "pygments_lexer": "ipython3",
   "version": "3.7.10"
  }
 },
 "nbformat": 4,
 "nbformat_minor": 5
}
