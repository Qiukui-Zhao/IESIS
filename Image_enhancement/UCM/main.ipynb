{
 "cells": [
  {
   "cell_type": "code",
   "execution_count": null,
   "id": "d92ad29c-d510-4e1e-b8b7-807d0f9b4d96",
   "metadata": {},
   "outputs": [],
   "source": [
    "import os\n",
    "import numpy as np\n",
    "import cv2\n",
    "import natsort\n",
    "import datetime\n",
    "\n",
    "from color_equalisation import RGB_equalisation\n",
    "from global_histogram_stretching import stretching\n",
    "from hsvStretching import HSVStretching\n",
    "from sceneRadiance import sceneRadianceRGB\n",
    "\n",
    "np.seterr(over='ignore')\n",
    "\n",
    "if __name__ == '__main__':\n",
    "    starttime = datetime.datetime.now()  # Initialize starttime\n",
    "\n",
    "    folder = \" \"\n",
    "    path = os.path.join(folder, \"2\")\n",
    "    files = os.listdir(path)\n",
    "    files = natsort.natsorted(files)\n",
    "\n",
    "    output_folder = os.path.join(\"OutputImages\")\n",
    "    os.makedirs(output_folder, exist_ok=True)  # Ensure output directory exists\n",
    "\n",
    "    for file in files:\n",
    "        filepath = os.path.join(path, file)\n",
    "        prefix = file.split('.')[0]\n",
    "        if os.path.isfile(filepath):\n",
    "            print('********    file   ********', file)\n",
    "            img = cv2.imread(filepath)\n",
    "            if img is not None:\n",
    "                sceneRadiance = RGB_equalisation(img)\n",
    "                sceneRadiance = stretching(sceneRadiance)\n",
    "                sceneRadiance = HSVStretching(sceneRadiance)\n",
    "                sceneRadiance = sceneRadianceRGB(sceneRadiance)\n",
    "                output_path = os.path.join(output_folder, f'{prefix}_UCM.jpg')\n",
    "                cv2.imwrite(output_path, sceneRadiance)\n",
    "            else:\n",
    "                print(f'Error reading image {file}')\n",
    "\n",
    "    endtime = datetime.datetime.now()\n",
    "    time = endtime - starttime\n",
    "    print('Processing time:', time)\n"
   ]
  }
 ],
 "metadata": {
  "kernelspec": {
   "display_name": "Python 3 (ipykernel)",
   "language": "python",
   "name": "python3"
  },
  "language_info": {
   "codemirror_mode": {
    "name": "ipython",
    "version": 3
   },
   "file_extension": ".py",
   "mimetype": "text/x-python",
   "name": "python",
   "nbconvert_exporter": "python",
   "pygments_lexer": "ipython3",
   "version": "3.7.10"
  }
 },
 "nbformat": 4,
 "nbformat_minor": 5
}
