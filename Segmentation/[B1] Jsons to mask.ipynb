{
 "cells": [
  {
   "cell_type": "code",
   "execution_count": 10,
   "id": "0760c2f6-b0f5-4111-b70a-921e30ca3957",
   "metadata": {},
   "outputs": [],
   "source": [
    "import os\n",
    "import json\n",
    "import numpy as np\n",
    "import cv2\n",
    "import shutil\n",
    "\n",
    "from tqdm import tqdm"
   ]
  },
  {
   "cell_type": "code",
   "execution_count": null,
   "id": "ed22f2fc-e0d4-45c8-8184-4cf8007901ea",
   "metadata": {},
   "outputs": [],
   "source": [
    "\n",
    "class_info = [\n",
    "    {'label':'pelagic_sediments', 'type':'polygon', 'color':1},\n",
    "    {'label':'basalt','type':'polygon','color':2},\n",
    "    {'label':'basalt_breccia','type':'polygon','color':3},\n",
    "    {'label':'polymetallic_sulfide','type':'polygon','color':4}\n",
    "]"
   ]
  },
  {
   "cell_type": "code",
   "execution_count": null,
   "id": "cf1f8fc4-3acf-4dd3-b159-29d29ce4d7d5",
   "metadata": {},
   "outputs": [],
   "source": [
    "def labelme2mask_single_img(img_path, labelme_json_path):\n",
    "    '''\n",
    " \n",
    "    '''\n",
    "    \n",
    "    img_bgr = cv2.imread(img_path)\n",
    "    img_mask = np.zeros(img_bgr.shape[:2]) \n",
    "    \n",
    "    with open(labelme_json_path, 'r', encoding='utf-8') as f:\n",
    "        labelme = json.load(f)\n",
    "        \n",
    "    for one_class in class_info: \n",
    "        for each in labelme['shapes']: \n",
    "            if each['label'] == one_class['label']:\n",
    "                if one_class['type'] == 'polygon': \n",
    "\n",
    "                    \n",
    "                    points = [np.array(each['points'], dtype=np.int32).reshape((-1, 1, 2))]\n",
    "\n",
    "                    \n",
    "                    img_mask = cv2.fillPoly(img_mask, points, color=one_class['color'])\n",
    "\n",
    "                elif one_class['type'] == 'line' or one_class['type'] == 'linestrip': \n",
    "\n",
    "                    \n",
    "                    points = [np.array(each['points'], dtype=np.int32).reshape((-1, 1, 2))]\n",
    "\n",
    "                    \n",
    "                    img_mask = cv2.polylines(img_mask, points, isClosed=False, color=one_class['color'], thickness=one_class['thickness']) \n",
    "\n",
    "                elif one_class['type'] == 'circle': \n",
    "\n",
    "                    points = np.array(each['points'], dtype=np.int32)\n",
    "\n",
    "                    center_x, center_y = points[0][0], points[0][1] \n",
    "\n",
    "                    edge_x, edge_y = points[1][0], points[1][1]     \n",
    "\n",
    "                    radius = np.linalg.norm(np.array([center_x, center_y] - np.array([edge_x, edge_y]))).astype('uint32') \n",
    "\n",
    "                    img_mask = cv2.circle(img_mask, (center_x, center_y), radius, one_class['color'], one_class['thickness'])\n",
    "\n",
    "                else:\n",
    "                    print('未知标注类型', one_class['type'])\n",
    "                    \n",
    "    return img_mask"
   ]
  },
  {
   "cell_type": "code",
   "execution_count": null,
   "id": "1d238f03-945a-4bc8-9c38-75de2c40188f",
   "metadata": {},
   "outputs": [],
   "source": [
    "os.chdir(Dataset_Path)\n",
    "os.mkdir('masks')\n",
    "os.chdir('images')"
   ]
  },
  {
   "cell_type": "code",
   "execution_count": null,
   "id": "8bc686bf-d781-4c43-827b-2526cf672031",
   "metadata": {},
   "outputs": [],
   "source": [
    "for img_path in tqdm(os.listdir()):\n",
    "    \n",
    "    try:\n",
    "    \n",
    "        labelme_json_path = os.path.join('../', 'labelme_jsons', '.'.join(img_path.split('.')[:-1])+'.json')\n",
    "\n",
    "        img_mask = labelme2mask_single_img(img_path, labelme_json_path)\n",
    "\n",
    "        mask_path = img_path.split('.')[0] + '.png'\n",
    "\n",
    "        cv2.imwrite(os.path.join('../','masks',mask_path), img_mask)\n",
    "    \n",
    "    except Exception as E:\n",
    "        print(img_path, '转换失败', E)\n",
    "        "
   ]
  },
  {
   "cell_type": "code",
   "execution_count": null,
   "id": "0f5169d8-c9f6-41a0-851a-1d88b2fbd1fe",
   "metadata": {},
   "outputs": [],
   "source": [
    "os.chdir('../')\n",
    "shutil.move('images', 'img_dir')\n",
    "shutil.move('masks', 'ann_dir')\n",
    "!rm -rf labelme_jsons\n",
    "os.chdir('../')"
   ]
  },
  {
   "cell_type": "code",
   "execution_count": null,
   "id": "6a712788-3796-474c-af61-cead5276b087",
   "metadata": {},
   "outputs": [],
   "source": [
    "import seedir as sd\n",
    "sd.seedir('', style='emoji', depthlimit=1)"
   ]
  },
  {
   "cell_type": "code",
   "execution_count": null,
   "id": "7fb9a63c-9019-4da6-babc-4c31c246793a",
   "metadata": {},
   "outputs": [],
   "source": []
  },
  {
   "cell_type": "code",
   "execution_count": null,
   "id": "13a97a58-efba-4e8f-aaf4-4cb70a0ffd20",
   "metadata": {},
   "outputs": [],
   "source": []
  }
 ],
 "metadata": {
  "kernelspec": {
   "display_name": "Python 3 (ipykernel)",
   "language": "python",
   "name": "python3"
  },
  "language_info": {
   "codemirror_mode": {
    "name": "ipython",
    "version": 3
   },
   "file_extension": ".py",
   "mimetype": "text/x-python",
   "name": "python",
   "nbconvert_exporter": "python",
   "pygments_lexer": "ipython3",
   "version": "3.7.10"
  }
 },
 "nbformat": 4,
 "nbformat_minor": 5
}
