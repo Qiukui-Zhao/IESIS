{
 "cells": [
  {
   "cell_type": "code",
   "execution_count": 1,
   "id": "07212ec4-bc04-435b-9b1b-d64e1334dd87",
   "metadata": {},
   "outputs": [],
   "source": [
    "# !pip install seedir\n",
    "# !pip install emoji"
   ]
  },
  {
   "cell_type": "code",
   "execution_count": 2,
   "id": "11c7d96b-19a4-4236-bf1f-2977f2dcba99",
   "metadata": {},
   "outputs": [],
   "source": [
    "import os\n",
    "import shutil\n",
    "import random\n",
    "import seedir\n",
    "import emoji\n",
    "from tqdm import tqdm"
   ]
  },
  {
   "cell_type": "code",
   "execution_count": null,
   "id": "78a5616c-8f14-459b-88a9-22e6ed0ced01",
   "metadata": {},
   "outputs": [],
   "source": [
    "Dataset_Path = ''"
   ]
  },
  {
   "cell_type": "code",
   "execution_count": null,
   "id": "6a712788-3796-474c-af61-cead5276b087",
   "metadata": {},
   "outputs": [],
   "source": [
    "import seedir as sd\n",
    "sd.seedir(Dataset_Path, style='emoji', depthlimit=1)"
   ]
  },
  {
   "cell_type": "code",
   "execution_count": 5,
   "id": "ab791fbe-21dc-405f-9072-b157e9047686",
   "metadata": {},
   "outputs": [],
   "source": [
    "os.chdir(Dataset_Path)\n",
    "os.mkdir('train')\n",
    "os.mkdir('val')"
   ]
  },
  {
   "cell_type": "code",
   "execution_count": null,
   "id": "f112267b-1044-45aa-9ad2-f2752a4b80e9",
   "metadata": {},
   "outputs": [],
   "source": [
    "len(os.listdir('img_dir'))"
   ]
  },
  {
   "cell_type": "code",
   "execution_count": null,
   "id": "90fe8fd3-2a2c-4e4c-a065-3352eb363eb4",
   "metadata": {},
   "outputs": [],
   "source": [
    "len(os.listdir('ann_dir'))"
   ]
  },
  {
   "cell_type": "code",
   "execution_count": 17,
   "id": "9559d312-7353-47e8-8207-84f31a229b9c",
   "metadata": {},
   "outputs": [],
   "source": [
    "test_frac = 0.2  # 测试集比例\n",
    "random.seed(5) # 随机数种子，便于复现"
   ]
  },
  {
   "cell_type": "code",
   "execution_count": 18,
   "id": "02992d76-09cf-43ac-8d39-03f18b04a12a",
   "metadata": {},
   "outputs": [],
   "source": [
    "folder = 'img_dir'"
   ]
  },
  {
   "cell_type": "code",
   "execution_count": null,
   "id": "9edb977a-5a88-45ff-923d-0865c8b1421c",
   "metadata": {},
   "outputs": [],
   "source": [
    "img_paths = os.listdir(folder)\n",
    "random.shuffle(img_paths) # 随机打乱\n",
    "\n",
    "val_number = int(len(img_paths) * test_frac) # 测试集文件个数\n",
    "train_files = img_paths[val_number:]         # 训练集文件名列表\n",
    "val_files = img_paths[:val_number]           # 测试集文件名列表\n",
    "\n",
    "print('数据集文件总数', len(img_paths))\n",
    "print('训练集文件个数', len(train_files))\n",
    "print('测试集文件个数', len(val_files))"
   ]
  },
  {
   "cell_type": "code",
   "execution_count": null,
   "id": "66bdba3f-4bfb-4865-a427-e330fefec387",
   "metadata": {},
   "outputs": [],
   "source": [
    "for each in tqdm(train_files):\n",
    "    src_path = os.path.join(folder, each)\n",
    "    dst_path = os.path.join('train', each)\n",
    "    shutil.move(src_path, dst_path)"
   ]
  },
  {
   "cell_type": "code",
   "execution_count": null,
   "id": "080bbc39-b982-4dd5-bead-d2c1901b7edf",
   "metadata": {},
   "outputs": [],
   "source": [
    "for each in tqdm(val_files):\n",
    "    src_path = os.path.join(folder, each)\n",
    "    dst_path = os.path.join('val', each)\n",
    "    shutil.move(src_path, dst_path)"
   ]
  },
  {
   "cell_type": "code",
   "execution_count": null,
   "id": "13a71eb1-386d-4948-99a5-9fe4b97fbfb4",
   "metadata": {},
   "outputs": [],
   "source": [
    "len(os.listdir('train')) + len(os.listdir('val'))"
   ]
  },
  {
   "cell_type": "code",
   "execution_count": null,
   "id": "1e1eb99f-b1d1-45a9-a6dc-57217f35d092",
   "metadata": {},
   "outputs": [],
   "source": [
    "shutil.move('train', 'img_dir/train')\n",
    "shutil.move('val', 'img_dir/val')"
   ]
  },
  {
   "cell_type": "code",
   "execution_count": 24,
   "id": "d2d794f2-9782-4b65-a601-f8cca34e1e92",
   "metadata": {},
   "outputs": [],
   "source": [
    "folder = 'ann_dir'"
   ]
  },
  {
   "cell_type": "code",
   "execution_count": 25,
   "id": "9d9ddd45-8f2a-424f-a933-cf0c7766b45a",
   "metadata": {},
   "outputs": [],
   "source": [
    "os.mkdir('train')\n",
    "os.mkdir('val')"
   ]
  },
  {
   "cell_type": "code",
   "execution_count": null,
   "id": "db233f50-3dd1-46b4-a9db-0e56356f768a",
   "metadata": {},
   "outputs": [],
   "source": [
    "for each in tqdm(train_files):\n",
    "    src_path = os.path.join(folder, each.split('.')[0]+'.png')\n",
    "    dst_path = os.path.join('train', each.split('.')[0]+'.png')\n",
    "    shutil.move(src_path, dst_path)"
   ]
  },
  {
   "cell_type": "code",
   "execution_count": null,
   "id": "23ab11de-acdd-4916-864a-779088aae69f",
   "metadata": {},
   "outputs": [],
   "source": [
    "for each in tqdm(val_files):\n",
    "    src_path = os.path.join(folder, each.split('.')[0]+'.png')\n",
    "    dst_path = os.path.join('val', each.split('.')[0]+'.png')\n",
    "    shutil.move(src_path, dst_path)"
   ]
  },
  {
   "cell_type": "code",
   "execution_count": null,
   "id": "682adf8f-02e5-418d-92be-8b5a5a09e912",
   "metadata": {},
   "outputs": [],
   "source": [
    "len(os.listdir('train')) + len(os.listdir('val'))"
   ]
  },
  {
   "cell_type": "code",
   "execution_count": null,
   "id": "6665f803-4a9d-437d-8e46-c594e4c61a2f",
   "metadata": {},
   "outputs": [],
   "source": [
    "shutil.move('train', 'ann_dir/train')\n",
    "shutil.move('val', 'ann_dir/val')"
   ]
  },
  {
   "cell_type": "code",
   "execution_count": 30,
   "id": "31f9447a-648d-43a4-adca-755e3969398c",
   "metadata": {},
   "outputs": [],
   "source": [
    "os.chdir('../')"
   ]
  }
 ],
 "metadata": {
  "kernelspec": {
   "display_name": "Python 3 (ipykernel)",
   "language": "python",
   "name": "python3"
  },
  "language_info": {
   "codemirror_mode": {
    "name": "ipython",
    "version": 3
   },
   "file_extension": ".py",
   "mimetype": "text/x-python",
   "name": "python",
   "nbconvert_exporter": "python",
   "pygments_lexer": "ipython3",
   "version": "3.7.10"
  }
 },
 "nbformat": 4,
 "nbformat_minor": 5
}
